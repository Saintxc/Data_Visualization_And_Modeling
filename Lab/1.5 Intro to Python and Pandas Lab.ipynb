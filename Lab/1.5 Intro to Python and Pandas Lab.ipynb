{
 "cells": [
  {
   "cell_type": "markdown",
   "id": "03ba50ef-04a5-4edc-9ef8-747de437c608",
   "metadata": {},
   "source": [
    "# Lab Instructions\n",
    "\n",
    "Find a dataset that interests you. I'd recommend starting on [Kaggle](https://www.kaggle.com/). Read through all of the material about the dataset and download a .CSV file.\n",
    "\n",
    "1. Write a short summary of the data.  Where did it come from?  How was it collected?  What are the features in the data?  Why is this dataset interesting to you?\n",
    "\n",
    "    * The data is over steam sales. It shows the game name, the rating, the # of reviews, discount percentage if available, price including if there is a discount, the release date, shows 1 if available on windows/ linux/ mac- 0 if not, and a timestamp of when the data was collected. It is also updated weekly.\n",
    "\n",
    "3. Identify 5 interesting questions about your data that you can answer using Pandas methods.\n",
    "\n",
    "     * What is the oldest game on steam?\n",
    "     * What is the best current discount?\n",
    "     * What is the highest review count?\n",
    "     * What are the top games available on linux?\n",
    "     * What is the highest rated game on steam?\n",
    "\n",
    "5. Answer those questions!  You may use any method you want (including LLMs) to help you write your code; however, you should use Pandas to find the answers.  LLMs will not always write code in this way without specific instruction.  \n",
    "\n",
    "6. Write the answer to your question in a text box underneath the code you used to calculate the answer.\n",
    "\n"
   ]
  },
  {
   "cell_type": "code",
   "execution_count": 1,
   "id": "0ec8c5fc-c772-46e7-961b-729183a40273",
   "metadata": {},
   "outputs": [
    {
     "data": {
      "text/html": [
       "<div>\n",
       "<style scoped>\n",
       "    .dataframe tbody tr th:only-of-type {\n",
       "        vertical-align: middle;\n",
       "    }\n",
       "\n",
       "    .dataframe tbody tr th {\n",
       "        vertical-align: top;\n",
       "    }\n",
       "\n",
       "    .dataframe thead th {\n",
       "        text-align: right;\n",
       "    }\n",
       "</style>\n",
       "<table border=\"1\" class=\"dataframe\">\n",
       "  <thead>\n",
       "    <tr style=\"text-align: right;\">\n",
       "      <th></th>\n",
       "      <th>Game Name</th>\n",
       "      <th>Rating</th>\n",
       "      <th>#Reviews</th>\n",
       "      <th>Discount%</th>\n",
       "      <th>Price (â¬)</th>\n",
       "      <th>Original Price (â¬)</th>\n",
       "      <th>Release Date</th>\n",
       "      <th>Windows</th>\n",
       "      <th>Linux</th>\n",
       "      <th>MacOS</th>\n",
       "      <th>Fetched At</th>\n",
       "    </tr>\n",
       "  </thead>\n",
       "  <tbody>\n",
       "    <tr>\n",
       "      <th>0</th>\n",
       "      <td>PEAK</td>\n",
       "      <td>7.0</td>\n",
       "      <td>77,683</td>\n",
       "      <td>-38.0</td>\n",
       "      <td>4.64</td>\n",
       "      <td>7.49</td>\n",
       "      <td>16 Jun, 2025</td>\n",
       "      <td>1</td>\n",
       "      <td>0</td>\n",
       "      <td>0</td>\n",
       "      <td>2025-08-11 00:00</td>\n",
       "    </tr>\n",
       "    <tr>\n",
       "      <th>1</th>\n",
       "      <td>Cyberpunk 2077</td>\n",
       "      <td>7.0</td>\n",
       "      <td>772,574</td>\n",
       "      <td>-65.0</td>\n",
       "      <td>20.99</td>\n",
       "      <td>59.99</td>\n",
       "      <td>9 Dec, 2020</td>\n",
       "      <td>1</td>\n",
       "      <td>0</td>\n",
       "      <td>1</td>\n",
       "      <td>2025-08-11 00:00</td>\n",
       "    </tr>\n",
       "    <tr>\n",
       "      <th>2</th>\n",
       "      <td>Rust</td>\n",
       "      <td>7.0</td>\n",
       "      <td>1,038,433</td>\n",
       "      <td>-50.0</td>\n",
       "      <td>19.99</td>\n",
       "      <td>39.99</td>\n",
       "      <td>8 Feb, 2018</td>\n",
       "      <td>1</td>\n",
       "      <td>0</td>\n",
       "      <td>1</td>\n",
       "      <td>2025-08-11 00:00</td>\n",
       "    </tr>\n",
       "    <tr>\n",
       "      <th>3</th>\n",
       "      <td>Microsoft Flight Simulator (2020) 40th Anniver...</td>\n",
       "      <td>5.0</td>\n",
       "      <td>63,905</td>\n",
       "      <td>-60.0</td>\n",
       "      <td>27.99</td>\n",
       "      <td>69.99</td>\n",
       "      <td>17 Aug, 2020</td>\n",
       "      <td>1</td>\n",
       "      <td>0</td>\n",
       "      <td>0</td>\n",
       "      <td>2025-08-11 00:00</td>\n",
       "    </tr>\n",
       "    <tr>\n",
       "      <th>4</th>\n",
       "      <td>Sid Meier's Civilization VII</td>\n",
       "      <td>4.0</td>\n",
       "      <td>34,643</td>\n",
       "      <td>-30.0</td>\n",
       "      <td>48.99</td>\n",
       "      <td>69.99</td>\n",
       "      <td>10 Feb, 2025</td>\n",
       "      <td>1</td>\n",
       "      <td>1</td>\n",
       "      <td>1</td>\n",
       "      <td>2025-08-11 00:00</td>\n",
       "    </tr>\n",
       "  </tbody>\n",
       "</table>\n",
       "</div>"
      ],
      "text/plain": [
       "                                           Game Name  Rating   #Reviews  \\\n",
       "0                                               PEAK     7.0     77,683   \n",
       "1                                     Cyberpunk 2077     7.0    772,574   \n",
       "2                                               Rust     7.0  1,038,433   \n",
       "3  Microsoft Flight Simulator (2020) 40th Anniver...     5.0     63,905   \n",
       "4                       Sid Meier's Civilization VII     4.0     34,643   \n",
       "\n",
       "   Discount%  Price (â¬)  Original Price (â¬)  Release Date  Windows  Linux  \\\n",
       "0      -38.0         4.64                  7.49  16 Jun, 2025        1      0   \n",
       "1      -65.0        20.99                 59.99   9 Dec, 2020        1      0   \n",
       "2      -50.0        19.99                 39.99   8 Feb, 2018        1      0   \n",
       "3      -60.0        27.99                 69.99  17 Aug, 2020        1      0   \n",
       "4      -30.0        48.99                 69.99  10 Feb, 2025        1      1   \n",
       "\n",
       "   MacOS        Fetched At  \n",
       "0      0  2025-08-11 00:00  \n",
       "1      1  2025-08-11 00:00  \n",
       "2      1  2025-08-11 00:00  \n",
       "3      0  2025-08-11 00:00  \n",
       "4      1  2025-08-11 00:00  "
      ]
     },
     "execution_count": 1,
     "metadata": {},
     "output_type": "execute_result"
    }
   ],
   "source": [
    "import pandas as pd\n",
    "\n",
    "df = pd.read_csv('steam_sales.csv', encoding='ISO-8859-1')\n",
    "\n",
    "df.head()"
   ]
  },
  {
   "cell_type": "code",
   "execution_count": 2,
   "id": "84c554c6-5e3e-4897-a3ce-cf7b1a072238",
   "metadata": {},
   "outputs": [
    {
     "data": {
      "text/plain": [
       "Game Name               Call of Duty: United Offensive\n",
       "Rating                                             7.0\n",
       "#Reviews                                         2,043\n",
       "Discount%                                        -25.0\n",
       "Price (â¬)                                      14.99\n",
       "Original Price (â¬)                             19.99\n",
       "Release Date                       2006-12-07 00:00:00\n",
       "Windows                                              1\n",
       "Linux                                                0\n",
       "MacOS                                                0\n",
       "Fetched At                            2025-08-11 00:00\n",
       "Name: 324, dtype: object"
      ]
     },
     "execution_count": 2,
     "metadata": {},
     "output_type": "execute_result"
    }
   ],
   "source": [
    "df['Release Date'] = pd.to_datetime(df['Release Date'], errors = 'coerce')\n",
    "df.loc[df['Release Date'].idxmin()]"
   ]
  },
  {
   "cell_type": "markdown",
   "id": "be44e6e1-844a-4f21-bdae-afbed720caba",
   "metadata": {},
   "source": [
    "# Oldest Game\n",
    "It appears the oldest game in this csv is Call of Duty: United Offensive that was released in December of 2006."
   ]
  },
  {
   "cell_type": "code",
   "execution_count": 3,
   "id": "d4dbfc66-1a42-480c-b46a-04b16183980f",
   "metadata": {},
   "outputs": [
    {
     "data": {
      "text/plain": [
       "Game Name               Battlefieldâ¢ 2042\n",
       "Rating                                  4.0\n",
       "#Reviews                           103597.0\n",
       "Discount%                             -95.0\n",
       "Price (â¬)                            2.99\n",
       "Original Price (â¬)                  59.99\n",
       "Release Date                            NaT\n",
       "Windows                                   1\n",
       "Linux                                     0\n",
       "MacOS                                     0\n",
       "Fetched At                 2025-09-02 11:23\n",
       "Name: 754, dtype: object"
      ]
     },
     "execution_count": 3,
     "metadata": {},
     "output_type": "execute_result"
    }
   ],
   "source": [
    "df.loc[df['Discount%'].idxmin()]"
   ]
  },
  {
   "cell_type": "markdown",
   "id": "34380842-dfff-4477-865b-4d647dd7aa61",
   "metadata": {},
   "source": [
    "# Biggest Discount\n",
    "The game with the biggest discount as of September 2nd, appears to be Battlefield 2042 at a discount of 95% off, thats insane!"
   ]
  },
  {
   "cell_type": "code",
   "execution_count": 9,
   "id": "e9441fa7-ad27-4108-9621-e809e4b41215",
   "metadata": {},
   "outputs": [
    {
     "data": {
      "text/plain": [
       "Game Name                              Rust\n",
       "Rating                                  7.0\n",
       "#Reviews                          1,038,433\n",
       "Discount%                             -50.0\n",
       "Price (â¬)                           19.99\n",
       "Original Price (â¬)                  39.99\n",
       "Release Date            2018-02-08 00:00:00\n",
       "Windows                                   1\n",
       "Linux                                     0\n",
       "MacOS                                     1\n",
       "Fetched At                 2025-08-11 00:00\n",
       "#Reviews_num                      1038433.0\n",
       "Name: 2, dtype: object"
      ]
     },
     "execution_count": 9,
     "metadata": {},
     "output_type": "execute_result"
    }
   ],
   "source": [
    "df['#Reviews_num'] = df['#Reviews'].replace(',', '', regex=True).astype(float)\n",
    "df.loc[df['#Reviews_num'].idxmax()]"
   ]
  },
  {
   "cell_type": "markdown",
   "id": "8e5a1117-70d5-47ba-bf0a-f004d289a08d",
   "metadata": {},
   "source": [
    "# Most reviewed game\n",
    "This is no surprise to me that Rust is the most reviewed game on steam. It's also on of the most popular games on steam."
   ]
  },
  {
   "cell_type": "code",
   "execution_count": 14,
   "id": "02495c58-473a-4806-bdcb-c048c7d87d7d",
   "metadata": {},
   "outputs": [
    {
     "data": {
      "text/html": [
       "<div>\n",
       "<style scoped>\n",
       "    .dataframe tbody tr th:only-of-type {\n",
       "        vertical-align: middle;\n",
       "    }\n",
       "\n",
       "    .dataframe tbody tr th {\n",
       "        vertical-align: top;\n",
       "    }\n",
       "\n",
       "    .dataframe thead th {\n",
       "        text-align: right;\n",
       "    }\n",
       "</style>\n",
       "<table border=\"1\" class=\"dataframe\">\n",
       "  <thead>\n",
       "    <tr style=\"text-align: right;\">\n",
       "      <th></th>\n",
       "      <th>Game Name</th>\n",
       "      <th>Reviews</th>\n",
       "      <th>Rating</th>\n",
       "      <th>Discount%</th>\n",
       "    </tr>\n",
       "  </thead>\n",
       "  <tbody>\n",
       "    <tr>\n",
       "      <th>20</th>\n",
       "      <td>Stardew Valley</td>\n",
       "      <td>784685.0</td>\n",
       "      <td>8.0</td>\n",
       "      <td>-30.0</td>\n",
       "    </tr>\n",
       "    <tr>\n",
       "      <th>822</th>\n",
       "      <td>Garry's Mod</td>\n",
       "      <td>504831.0</td>\n",
       "      <td>8.0</td>\n",
       "      <td>-40.0</td>\n",
       "    </tr>\n",
       "    <tr>\n",
       "      <th>402</th>\n",
       "      <td>Sid Meierâs CivilizationÂ® VI</td>\n",
       "      <td>261533.0</td>\n",
       "      <td>7.0</td>\n",
       "      <td>-90.0</td>\n",
       "    </tr>\n",
       "    <tr>\n",
       "      <th>51</th>\n",
       "      <td>Sid Meierâs CivilizationÂ® VI</td>\n",
       "      <td>261136.0</td>\n",
       "      <td>7.0</td>\n",
       "      <td>-90.0</td>\n",
       "    </tr>\n",
       "    <tr>\n",
       "      <th>387</th>\n",
       "      <td>Hearts of Iron IV</td>\n",
       "      <td>243382.0</td>\n",
       "      <td>7.0</td>\n",
       "      <td>-70.0</td>\n",
       "    </tr>\n",
       "  </tbody>\n",
       "</table>\n",
       "</div>"
      ],
      "text/plain": [
       "                           Game Name   Reviews  Rating  Discount%\n",
       "20                    Stardew Valley  784685.0     8.0      -30.0\n",
       "822                      Garry's Mod  504831.0     8.0      -40.0\n",
       "402  Sid Meierâs CivilizationÂ® VI  261533.0     7.0      -90.0\n",
       "51   Sid Meierâs CivilizationÂ® VI  261136.0     7.0      -90.0\n",
       "387                Hearts of Iron IV  243382.0     7.0      -70.0"
      ]
     },
     "execution_count": 14,
     "metadata": {},
     "output_type": "execute_result"
    }
   ],
   "source": [
    "linux_games = (\n",
    "    df[df['Linux'].astype(int) == 1]\n",
    "      .assign(Reviews=df['#Reviews'].replace(',', '', regex=True).astype(float))\n",
    "      .sort_values(by='Reviews', ascending=False)\n",
    "      .head()\n",
    ")\n",
    "\n",
    "linux_games[['Game Name', 'Reviews', 'Rating', 'Discount%']]"
   ]
  },
  {
   "cell_type": "markdown",
   "id": "b29ace7d-6441-46b9-b05e-01b7925fff44",
   "metadata": {},
   "source": [
    "# Top games on linux\n",
    "I'm not at all surprised by Stardew Valley and Garry's Mod being the top games available on linux. These games are very popular on windows too. (I had to use AI to help me with this one because I was running into errors and a list not generating with linux == 1)."
   ]
  },
  {
   "cell_type": "code",
   "execution_count": 18,
   "id": "a2808683-a634-4ee9-b552-5078d4158ff3",
   "metadata": {},
   "outputs": [
    {
     "data": {
      "text/html": [
       "<div>\n",
       "<style scoped>\n",
       "    .dataframe tbody tr th:only-of-type {\n",
       "        vertical-align: middle;\n",
       "    }\n",
       "\n",
       "    .dataframe tbody tr th {\n",
       "        vertical-align: top;\n",
       "    }\n",
       "\n",
       "    .dataframe thead th {\n",
       "        text-align: right;\n",
       "    }\n",
       "</style>\n",
       "<table border=\"1\" class=\"dataframe\">\n",
       "  <thead>\n",
       "    <tr style=\"text-align: right;\">\n",
       "      <th></th>\n",
       "      <th>Game Name</th>\n",
       "      <th>Rating</th>\n",
       "      <th>#Reviews</th>\n",
       "    </tr>\n",
       "  </thead>\n",
       "  <tbody>\n",
       "    <tr>\n",
       "      <th>19</th>\n",
       "      <td>The Witcher 3: Wild Hunt - Complete Edition</td>\n",
       "      <td>8.0</td>\n",
       "      <td>787763.0</td>\n",
       "    </tr>\n",
       "    <tr>\n",
       "      <th>20</th>\n",
       "      <td>Stardew Valley</td>\n",
       "      <td>8.0</td>\n",
       "      <td>784685.0</td>\n",
       "    </tr>\n",
       "    <tr>\n",
       "      <th>27</th>\n",
       "      <td>The Witcher 3: Wild Hunt</td>\n",
       "      <td>8.0</td>\n",
       "      <td>772465.0</td>\n",
       "    </tr>\n",
       "    <tr>\n",
       "      <th>24</th>\n",
       "      <td>Phasmophobia</td>\n",
       "      <td>8.0</td>\n",
       "      <td>636310.0</td>\n",
       "    </tr>\n",
       "    <tr>\n",
       "      <th>822</th>\n",
       "      <td>Garry's Mod</td>\n",
       "      <td>8.0</td>\n",
       "      <td>504831.0</td>\n",
       "    </tr>\n",
       "  </tbody>\n",
       "</table>\n",
       "</div>"
      ],
      "text/plain": [
       "                                       Game Name  Rating  #Reviews\n",
       "19   The Witcher 3: Wild Hunt - Complete Edition     8.0  787763.0\n",
       "20                                Stardew Valley     8.0  784685.0\n",
       "27                      The Witcher 3: Wild Hunt     8.0  772465.0\n",
       "24                                  Phasmophobia     8.0  636310.0\n",
       "822                                  Garry's Mod     8.0  504831.0"
      ]
     },
     "execution_count": 18,
     "metadata": {},
     "output_type": "execute_result"
    }
   ],
   "source": [
    "df['#Reviews'] = df['#Reviews'].replace(',', '').astype(float)\n",
    "top_games = df.sort_values(by=['Rating', '#Reviews'], ascending=[False, False]).head()\n",
    "top_games[['Game Name', 'Rating', '#Reviews']]"
   ]
  },
  {
   "cell_type": "markdown",
   "id": "844e6edd-5520-4f22-990c-fd5df3e884b9",
   "metadata": {},
   "source": [
    "# Top rating games with highest review counts\n",
    "None of these games surprise me with being among the top rated. The Witcher 3 was one of the best games I have ever played."
   ]
  },
  {
   "cell_type": "code",
   "execution_count": null,
   "id": "8c58fc87-6ed5-4caa-b022-9cb5eb2cee1d",
   "metadata": {},
   "outputs": [],
   "source": []
  }
 ],
 "metadata": {
  "kernelspec": {
   "display_name": "Python [conda env:base] *",
   "language": "python",
   "name": "conda-base-py"
  },
  "language_info": {
   "codemirror_mode": {
    "name": "ipython",
    "version": 3
   },
   "file_extension": ".py",
   "mimetype": "text/x-python",
   "name": "python",
   "nbconvert_exporter": "python",
   "pygments_lexer": "ipython3",
   "version": "3.13.5"
  }
 },
 "nbformat": 4,
 "nbformat_minor": 5
}
